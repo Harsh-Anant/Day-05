{
 "cells": [
  {
   "cell_type": "markdown",
   "metadata": {},
   "source": [
    "___1.___ __Python code to find first 20 non-even prime natural numbers.__"
   ]
  },
  {
   "cell_type": "code",
   "execution_count": 1,
   "metadata": {},
   "outputs": [
    {
     "name": "stdout",
     "output_type": "stream",
     "text": [
      "First 20 non-even prime natural numbers are:\n",
      "\n",
      "3 5 7 11 13 17 19 23 29 31 37 41 43 47 53 59 61 67 71 73 "
     ]
    }
   ],
   "source": [
    "print(\"First 20 non-even prime natural numbers are:\\n\")\n",
    "for i in range(2,79):\n",
    "    count=0\n",
    "    for j in range(2,i):\n",
    "        if i%j==0:\n",
    "            count=1\n",
    "            break\n",
    "    if count==0 and i%2==1:\n",
    "        print(i,end=\" \")"
   ]
  },
  {
   "cell_type": "markdown",
   "metadata": {},
   "source": [
    "___2.___ __Python code to implement 15 functions of string.__"
   ]
  },
  {
   "cell_type": "code",
   "execution_count": 2,
   "metadata": {},
   "outputs": [
    {
     "name": "stdout",
     "output_type": "stream",
     "text": [
      "Enter the string: lets Upgrade\n",
      "\n",
      "\n",
      "Swapcase: LETS uPGRADE\n",
      "Upper: LETS UPGRADE\n",
      "Lower: lets upgrade\n",
      "Isupper:  False\n",
      "Islower:  lets upgrade\n",
      "Replace: lits Upgradi\n",
      "Isaplha:  False\n",
      "Isalnum:  False\n",
      "Isdigit:  False\n",
      "Reverse: edargpU stel\n",
      "Slicing for substring of first 2 characters: le\n",
      "Length of 'lets Upgrade': 12\n",
      "Backward Indexing: argp\n",
      "Joining: lets Upgrade Rocks\n",
      "Capitalize:Lets upgrade\n"
     ]
    }
   ],
   "source": [
    "a=input(\"Enter the string: \")\n",
    "print(\"\\n\")\n",
    "print(\"Swapcase: \"+a.swapcase())\n",
    "print(\"Upper: \"+a.upper())\n",
    "print(\"Lower: \"+a.lower())\n",
    "print(\"Isupper: \",a.isupper())\n",
    "print(\"Islower: \",a.lower())\n",
    "print(\"Replace: \"+a.replace(a[1],'i'))\n",
    "print(\"Isaplha: \",a.isalpha())\n",
    "print(\"Isalnum: \",a.isalnum())\n",
    "print(\"Isdigit: \",a.isdigit())\n",
    "print(\"Reverse: \"+a[::-1])\n",
    "print(\"Slicing for substring of first 2 characters: \"+a[0:2])\n",
    "print(\"Length of \"+\"'\"+a+\"'\"+\":\",len(a))\n",
    "print(\"Backward Indexing: \"+a[-3:-7:-1])\n",
    "print(\"Joining: \"+' '.join((a,\"Rocks\")))\n",
    "print(\"Capitalize:\"+a.capitalize())\n"
   ]
  },
  {
   "cell_type": "markdown",
   "metadata": {},
   "source": [
    "___3.___ __Python code to check whether the string is palindrome or not and whether the two input strings are anagram or not.__"
   ]
  },
  {
   "cell_type": "code",
   "execution_count": 3,
   "metadata": {},
   "outputs": [
    {
     "name": "stdout",
     "output_type": "stream",
     "text": [
      "Check for palindrome\n",
      "\n",
      "Enter the string: 121\n",
      "121 is a palindrome string.\n",
      "\n",
      "\n",
      "Check for anagram\n",
      "\n",
      "Enter the first string: 121\n",
      "Enter the second string: 211\n",
      "121 and 211 are anagrams.\n"
     ]
    }
   ],
   "source": [
    "from collections import defaultdict\n",
    "print(\"Check for palindrome\\n\")\n",
    "st=input(\"Enter the string: \")\n",
    "if st==st[::-1]:\n",
    "    print(st+\" is a palindrome string.\")\n",
    "else:\n",
    "    print(st+\" is not a palindrome string.\")\n",
    "    \n",
    "print(\"\\n\")\n",
    "print(\"Check for anagram\\n\")\n",
    "st1=input(\"Enter the first string: \")\n",
    "st2=input(\"Enter the second string: \")\n",
    "d1=defaultdict(lambda:0)\n",
    "d2=defaultdict(lambda:0)\n",
    "\n",
    "for i in st1:\n",
    "    d1[i]+=1\n",
    "for i in st2:\n",
    "    d2[i]+=1\n",
    "count=0\n",
    "for i in st1:\n",
    "    if i in st2:\n",
    "        if d1[i]!=d2[i]:\n",
    "            count=1\n",
    "            break\n",
    "    else:\n",
    "        count=1\n",
    "        break\n",
    "if count==0:\n",
    "    print(st1+\" and \"+st2+\" are \"+\"anagrams.\")\n",
    "else:\n",
    "    print(st1+\" and \"+st2+\" are not \"+\"anagrams.\")\n",
    "            "
   ]
  },
  {
   "cell_type": "markdown",
   "metadata": {},
   "source": [
    "___4.___ __Python code for removing all the characters except the alphabets from the input string and covert the resultant    string in to its corresponding lower case.__"
   ]
  },
  {
   "cell_type": "code",
   "execution_count": 4,
   "metadata": {},
   "outputs": [
    {
     "name": "stdout",
     "output_type": "stream",
     "text": [
      "Enter the string: Dr. Darshan Ingle@AI-ML Trainer\n",
      "Resultant: drdarshaningleaimltrainer\n"
     ]
    }
   ],
   "source": [
    "resultant=''\n",
    "a=input(\"Enter the string: \")\n",
    "\n",
    "for i in a:\n",
    "    if i>='a' and i<='z' or i>='A' and i<='Z':\n",
    "        resultant+=i\n",
    "print(\"Resultant: \"+resultant.lower())"
   ]
  },
  {
   "cell_type": "code",
   "execution_count": null,
   "metadata": {},
   "outputs": [],
   "source": []
  }
 ],
 "metadata": {
  "kernelspec": {
   "display_name": "Python 3",
   "language": "python",
   "name": "python3"
  },
  "language_info": {
   "codemirror_mode": {
    "name": "ipython",
    "version": 3
   },
   "file_extension": ".py",
   "mimetype": "text/x-python",
   "name": "python",
   "nbconvert_exporter": "python",
   "pygments_lexer": "ipython3",
   "version": "3.5.6"
  }
 },
 "nbformat": 4,
 "nbformat_minor": 2
}
